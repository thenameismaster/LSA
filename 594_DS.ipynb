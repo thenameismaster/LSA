{
  "nbformat": 4,
  "nbformat_minor": 0,
  "metadata": {
    "colab": {
      "name": "594 DS.ipynb",
      "provenance": [],
      "include_colab_link": true
    },
    "kernelspec": {
      "name": "python3",
      "display_name": "Python 3"
    }
  },
  "cells": [
    {
      "cell_type": "markdown",
      "metadata": {
        "id": "view-in-github",
        "colab_type": "text"
      },
      "source": [
        "<a href=\"https://colab.research.google.com/github/thenameismaster/LSA/blob/master/594_DS.ipynb\" target=\"_parent\"><img src=\"https://colab.research.google.com/assets/colab-badge.svg\" alt=\"Open In Colab\"/></a>"
      ]
    },
    {
      "cell_type": "code",
      "metadata": {
        "id": "gkkqFyuYe3Z6",
        "colab": {
          "base_uri": "https://localhost:8080/"
        },
        "outputId": "7c810041-10d7-40fd-dca5-6d1f27ed5c51"
      },
      "source": [
        "import numpy as np\r\n",
        "import pandas as pd\r\n",
        "import matplotlib.pyplot as plt\r\n",
        "import seaborn as sns\r\n",
        "% pylab inline"
      ],
      "execution_count": null,
      "outputs": [
        {
          "output_type": "stream",
          "text": [
            "Populating the interactive namespace from numpy and matplotlib\n"
          ],
          "name": "stdout"
        }
      ]
    },
    {
      "cell_type": "code",
      "metadata": {
        "colab": {
          "base_uri": "https://localhost:8080/"
        },
        "id": "aStOHKojO-Uw",
        "outputId": "322d1865-6910-49d4-b7b1-d0f5b917c341"
      },
      "source": [
        "from google.colab import drive\r\n",
        "drive.mount(\"/content/drive\", force_remount=True)\r\n",
        "input_path = '/content/drive/MyDrive/IPL/'"
      ],
      "execution_count": null,
      "outputs": [
        {
          "output_type": "stream",
          "text": [
            "Mounted at /content/drive\n"
          ],
          "name": "stdout"
        }
      ]
    },
    {
      "cell_type": "code",
      "metadata": {
        "colab": {
          "base_uri": "https://localhost:8080/"
        },
        "id": "GSgakT9Ffd_p",
        "outputId": "4bce4d2f-f35a-4a67-f4ec-5f373856bba9"
      },
      "source": [
        "!ls '/content/drive/MyDrive/IPL'"
      ],
      "execution_count": null,
      "outputs": [
        {
          "output_type": "stream",
          "text": [
            " deliveries.csv  'IPL Ball-by-Ball 2008-2020.csv'   matches.csv\n"
          ],
          "name": "stdout"
        }
      ]
    },
    {
      "cell_type": "code",
      "metadata": {
        "id": "onnvo4v5fnJE"
      },
      "source": [
        "csv_file = 'deliveries.csv'\n",
        "final_file = input_path + csv_file\n",
        " \n",
        "deliveries = pd.read_csv(final_file)\n",
        " \n",
        "csv_file2 = 'matches.csv'\n",
        "final_file2 = input_path + csv_file\n",
        " \n",
        "matches = pd.read_csv(final_file2)"
      ],
      "execution_count": null,
      "outputs": []
    },
    {
      "cell_type": "code",
      "metadata": {
        "colab": {
          "base_uri": "https://localhost:8080/",
          "height": 199
        },
        "id": "3hEBiJE1mX2j",
        "outputId": "66daba3c-c209-447c-a34d-d91bb795f47c"
      },
      "source": [
        "matches.head(2)"
      ],
      "execution_count": null,
      "outputs": [
        {
          "output_type": "execute_result",
          "data": {
            "text/html": [
              "<div>\n",
              "<style scoped>\n",
              "    .dataframe tbody tr th:only-of-type {\n",
              "        vertical-align: middle;\n",
              "    }\n",
              "\n",
              "    .dataframe tbody tr th {\n",
              "        vertical-align: top;\n",
              "    }\n",
              "\n",
              "    .dataframe thead th {\n",
              "        text-align: right;\n",
              "    }\n",
              "</style>\n",
              "<table border=\"1\" class=\"dataframe\">\n",
              "  <thead>\n",
              "    <tr style=\"text-align: right;\">\n",
              "      <th></th>\n",
              "      <th>id</th>\n",
              "      <th>inning</th>\n",
              "      <th>over</th>\n",
              "      <th>ball</th>\n",
              "      <th>batsman</th>\n",
              "      <th>non_striker</th>\n",
              "      <th>bowler</th>\n",
              "      <th>batsman_runs</th>\n",
              "      <th>extra_runs</th>\n",
              "      <th>total_runs</th>\n",
              "      <th>non_boundary</th>\n",
              "      <th>is_wicket</th>\n",
              "      <th>dismissal_kind</th>\n",
              "      <th>player_dismissed</th>\n",
              "      <th>fielder</th>\n",
              "      <th>extras_type</th>\n",
              "      <th>batting_team</th>\n",
              "      <th>bowling_team</th>\n",
              "    </tr>\n",
              "  </thead>\n",
              "  <tbody>\n",
              "    <tr>\n",
              "      <th>0</th>\n",
              "      <td>335982</td>\n",
              "      <td>1</td>\n",
              "      <td>6</td>\n",
              "      <td>5</td>\n",
              "      <td>RT Ponting</td>\n",
              "      <td>BB McCullum</td>\n",
              "      <td>AA Noffke</td>\n",
              "      <td>1</td>\n",
              "      <td>0</td>\n",
              "      <td>1</td>\n",
              "      <td>0</td>\n",
              "      <td>0</td>\n",
              "      <td>NaN</td>\n",
              "      <td>NaN</td>\n",
              "      <td>NaN</td>\n",
              "      <td>NaN</td>\n",
              "      <td>Kolkata Knight Riders</td>\n",
              "      <td>Royal Challengers Bangalore</td>\n",
              "    </tr>\n",
              "    <tr>\n",
              "      <th>1</th>\n",
              "      <td>335982</td>\n",
              "      <td>1</td>\n",
              "      <td>6</td>\n",
              "      <td>6</td>\n",
              "      <td>BB McCullum</td>\n",
              "      <td>RT Ponting</td>\n",
              "      <td>AA Noffke</td>\n",
              "      <td>1</td>\n",
              "      <td>0</td>\n",
              "      <td>1</td>\n",
              "      <td>0</td>\n",
              "      <td>0</td>\n",
              "      <td>NaN</td>\n",
              "      <td>NaN</td>\n",
              "      <td>NaN</td>\n",
              "      <td>NaN</td>\n",
              "      <td>Kolkata Knight Riders</td>\n",
              "      <td>Royal Challengers Bangalore</td>\n",
              "    </tr>\n",
              "  </tbody>\n",
              "</table>\n",
              "</div>"
            ],
            "text/plain": [
              "       id  inning  ...           batting_team                 bowling_team\n",
              "0  335982       1  ...  Kolkata Knight Riders  Royal Challengers Bangalore\n",
              "1  335982       1  ...  Kolkata Knight Riders  Royal Challengers Bangalore\n",
              "\n",
              "[2 rows x 18 columns]"
            ]
          },
          "metadata": {
            "tags": []
          },
          "execution_count": 23
        }
      ]
    },
    {
      "cell_type": "code",
      "metadata": {
        "colab": {
          "base_uri": "https://localhost:8080/",
          "height": 199
        },
        "id": "T7pzjQD8mnZU",
        "outputId": "60652241-4025-466b-9240-b1d4912a6a89"
      },
      "source": [
        "deliveries.head(2)"
      ],
      "execution_count": null,
      "outputs": [
        {
          "output_type": "execute_result",
          "data": {
            "text/html": [
              "<div>\n",
              "<style scoped>\n",
              "    .dataframe tbody tr th:only-of-type {\n",
              "        vertical-align: middle;\n",
              "    }\n",
              "\n",
              "    .dataframe tbody tr th {\n",
              "        vertical-align: top;\n",
              "    }\n",
              "\n",
              "    .dataframe thead th {\n",
              "        text-align: right;\n",
              "    }\n",
              "</style>\n",
              "<table border=\"1\" class=\"dataframe\">\n",
              "  <thead>\n",
              "    <tr style=\"text-align: right;\">\n",
              "      <th></th>\n",
              "      <th>id</th>\n",
              "      <th>inning</th>\n",
              "      <th>over</th>\n",
              "      <th>ball</th>\n",
              "      <th>batsman</th>\n",
              "      <th>non_striker</th>\n",
              "      <th>bowler</th>\n",
              "      <th>batsman_runs</th>\n",
              "      <th>extra_runs</th>\n",
              "      <th>total_runs</th>\n",
              "      <th>non_boundary</th>\n",
              "      <th>is_wicket</th>\n",
              "      <th>dismissal_kind</th>\n",
              "      <th>player_dismissed</th>\n",
              "      <th>fielder</th>\n",
              "      <th>extras_type</th>\n",
              "      <th>batting_team</th>\n",
              "      <th>bowling_team</th>\n",
              "    </tr>\n",
              "  </thead>\n",
              "  <tbody>\n",
              "    <tr>\n",
              "      <th>0</th>\n",
              "      <td>335982</td>\n",
              "      <td>1</td>\n",
              "      <td>6</td>\n",
              "      <td>5</td>\n",
              "      <td>RT Ponting</td>\n",
              "      <td>BB McCullum</td>\n",
              "      <td>AA Noffke</td>\n",
              "      <td>1</td>\n",
              "      <td>0</td>\n",
              "      <td>1</td>\n",
              "      <td>0</td>\n",
              "      <td>0</td>\n",
              "      <td>NaN</td>\n",
              "      <td>NaN</td>\n",
              "      <td>NaN</td>\n",
              "      <td>NaN</td>\n",
              "      <td>Kolkata Knight Riders</td>\n",
              "      <td>Royal Challengers Bangalore</td>\n",
              "    </tr>\n",
              "    <tr>\n",
              "      <th>1</th>\n",
              "      <td>335982</td>\n",
              "      <td>1</td>\n",
              "      <td>6</td>\n",
              "      <td>6</td>\n",
              "      <td>BB McCullum</td>\n",
              "      <td>RT Ponting</td>\n",
              "      <td>AA Noffke</td>\n",
              "      <td>1</td>\n",
              "      <td>0</td>\n",
              "      <td>1</td>\n",
              "      <td>0</td>\n",
              "      <td>0</td>\n",
              "      <td>NaN</td>\n",
              "      <td>NaN</td>\n",
              "      <td>NaN</td>\n",
              "      <td>NaN</td>\n",
              "      <td>Kolkata Knight Riders</td>\n",
              "      <td>Royal Challengers Bangalore</td>\n",
              "    </tr>\n",
              "  </tbody>\n",
              "</table>\n",
              "</div>"
            ],
            "text/plain": [
              "       id  inning  ...           batting_team                 bowling_team\n",
              "0  335982       1  ...  Kolkata Knight Riders  Royal Challengers Bangalore\n",
              "1  335982       1  ...  Kolkata Knight Riders  Royal Challengers Bangalore\n",
              "\n",
              "[2 rows x 18 columns]"
            ]
          },
          "metadata": {
            "tags": []
          },
          "execution_count": 24
        }
      ]
    },
    {
      "cell_type": "code",
      "metadata": {
        "id": "x6--vYPUmtSd"
      },
      "source": [
        "def autolabel(rects):\n",
        "    for rect in rects:\n",
        "        height = rect.get_height() # here height means the height of a rectangle \n",
        "        ax.text(rect.get_x() + rect.get_width()/2., 1.02*height,\n",
        "                '%d' % int(height),\n",
        "                ha='center', va='bottom')"
      ],
      "execution_count": null,
      "outputs": []
    },
    {
      "cell_type": "code",
      "metadata": {
        "colab": {
          "base_uri": "https://localhost:8080/",
          "height": 359
        },
        "id": "hvUiSw94mxPx",
        "outputId": "52fa2e15-f416-475b-f1a5-212c0faaa862"
      },
      "source": [
        "Batsman_score=deliveries.groupby('batsman')[\"batsman_runs\"].agg(sum).reset_index().sort_values(by=\"batsman_runs\",ascending=False).reset_index(drop=True)\n",
        "Top_batsman_score= Batsman_score.iloc[:10,:]\n",
        "Top_batsman_score "
      ],
      "execution_count": null,
      "outputs": [
        {
          "output_type": "execute_result",
          "data": {
            "text/html": [
              "<div>\n",
              "<style scoped>\n",
              "    .dataframe tbody tr th:only-of-type {\n",
              "        vertical-align: middle;\n",
              "    }\n",
              "\n",
              "    .dataframe tbody tr th {\n",
              "        vertical-align: top;\n",
              "    }\n",
              "\n",
              "    .dataframe thead th {\n",
              "        text-align: right;\n",
              "    }\n",
              "</style>\n",
              "<table border=\"1\" class=\"dataframe\">\n",
              "  <thead>\n",
              "    <tr style=\"text-align: right;\">\n",
              "      <th></th>\n",
              "      <th>batsman</th>\n",
              "      <th>batsman_runs</th>\n",
              "    </tr>\n",
              "  </thead>\n",
              "  <tbody>\n",
              "    <tr>\n",
              "      <th>0</th>\n",
              "      <td>V Kohli</td>\n",
              "      <td>5878</td>\n",
              "    </tr>\n",
              "    <tr>\n",
              "      <th>1</th>\n",
              "      <td>SK Raina</td>\n",
              "      <td>5368</td>\n",
              "    </tr>\n",
              "    <tr>\n",
              "      <th>2</th>\n",
              "      <td>DA Warner</td>\n",
              "      <td>5254</td>\n",
              "    </tr>\n",
              "    <tr>\n",
              "      <th>3</th>\n",
              "      <td>RG Sharma</td>\n",
              "      <td>5230</td>\n",
              "    </tr>\n",
              "    <tr>\n",
              "      <th>4</th>\n",
              "      <td>S Dhawan</td>\n",
              "      <td>5197</td>\n",
              "    </tr>\n",
              "    <tr>\n",
              "      <th>5</th>\n",
              "      <td>AB de Villiers</td>\n",
              "      <td>4849</td>\n",
              "    </tr>\n",
              "    <tr>\n",
              "      <th>6</th>\n",
              "      <td>CH Gayle</td>\n",
              "      <td>4772</td>\n",
              "    </tr>\n",
              "    <tr>\n",
              "      <th>7</th>\n",
              "      <td>MS Dhoni</td>\n",
              "      <td>4632</td>\n",
              "    </tr>\n",
              "    <tr>\n",
              "      <th>8</th>\n",
              "      <td>RV Uthappa</td>\n",
              "      <td>4607</td>\n",
              "    </tr>\n",
              "    <tr>\n",
              "      <th>9</th>\n",
              "      <td>G Gambhir</td>\n",
              "      <td>4217</td>\n",
              "    </tr>\n",
              "  </tbody>\n",
              "</table>\n",
              "</div>"
            ],
            "text/plain": [
              "          batsman  batsman_runs\n",
              "0         V Kohli          5878\n",
              "1        SK Raina          5368\n",
              "2       DA Warner          5254\n",
              "3       RG Sharma          5230\n",
              "4        S Dhawan          5197\n",
              "5  AB de Villiers          4849\n",
              "6        CH Gayle          4772\n",
              "7        MS Dhoni          4632\n",
              "8      RV Uthappa          4607\n",
              "9       G Gambhir          4217"
            ]
          },
          "metadata": {
            "tags": []
          },
          "execution_count": 42
        }
      ]
    },
    {
      "cell_type": "code",
      "metadata": {
        "colab": {
          "base_uri": "https://localhost:8080/",
          "height": 337
        },
        "id": "IiwT5CxXm8vC",
        "outputId": "b4b75a12-58b0-4b32-a5e0-a41e9ef96e63"
      },
      "source": [
        "labels = np.array(Top_batsman_score['batsman'])\n",
        "ind = np.arange(len(labels))\n",
        "width = 0.7 \n",
        "fig, ax = plt.subplots()\n",
        "rects = ax.bar(ind, np.array(Top_batsman_score['batsman_runs']), width=width, color='blue')\n",
        "ax.set_xticks(ind+((width)/2.))\n",
        "ax.set_xticklabels(labels, rotation='vertical')\n",
        "ax.set_ylabel(\"Count\")\n",
        "ax.set_title(\"Top Scorer in IPL\")\n",
        "autolabel(rects)"
      ],
      "execution_count": null,
      "outputs": [
        {
          "output_type": "display_data",
          "data": {
            "image/png": "[encoded data removed]",
            "text/plain": [
              "<Figure size 432x288 with 1 Axes>"
            ]
          },
          "metadata": {
            "tags": [],
            "needs_background": "light"
          }
        }
      ]
    },
    {
      "cell_type": "code",
      "metadata": {
        "id": "9crqx36FnDVC"
      },
      "source": [
        "Batsman_Ball_faced=deliveries.groupby(['batsman'])[\"ball\"].count().reset_index().sort_values(by=\"ball\",ascending=False).reset_index(drop=True)\n",
        "Batsman_Ball_faced_Top=Batsman_Ball_faced.iloc[:15,:]"
      ],
      "execution_count": null,
      "outputs": []
    },
    {
      "cell_type": "code",
      "metadata": {
        "colab": {
          "base_uri": "https://localhost:8080/",
          "height": 337
        },
        "id": "okFhWgfYnIB1",
        "outputId": "44c9d533-17f3-4632-df01-00c211744dd3"
      },
      "source": [
        "labels = np.array(Batsman_Ball_faced_Top['batsman'])\n",
        "ind = np.arange(len(labels))\n",
        "width = 0.7 \n",
        "fig, ax = plt.subplots()\n",
        "rects = ax.bar(ind, np.array(Batsman_Ball_faced_Top['ball']), width=width, color='blue')\n",
        "ax.set_xticks(ind+((width)/2.))\n",
        "ax.set_xticklabels(labels, rotation='vertical')\n",
        "ax.set_ylabel(\"Count\")\n",
        "ax.set_title(\"Ball faced by Batsman in IPL\")\n",
        "autolabel(rects)"
      ],
      "execution_count": null,
      "outputs": [
        {
          "output_type": "display_data",
          "data": {
            "image/png": "[encoded data removed]",
            "text/plain": [
              "<Figure size 432x288 with 1 Axes>"
            ]
          },
          "metadata": {
            "tags": [],
            "needs_background": "light"
          }
        }
      ]
    },
    {
      "cell_type": "code",
      "metadata": {
        "colab": {
          "base_uri": "https://localhost:8080/",
          "height": 359
        },
        "id": "YHWHVCodnKBI",
        "outputId": "30d560bf-ae1f-45ac-eccb-ef0f55a809b5"
      },
      "source": [
        "Batsman_strike_rate= pd.merge(Batsman_score,Batsman_Ball_faced,on=\"batsman\",how='outer')\n",
        "Batsman_strike_rate= Batsman_strike_rate[Batsman_strike_rate[\"batsman_runs\"]>=500]\n",
        "Batsman_strike_rate[\"strike_rate\"]= (Batsman_strike_rate[\"batsman_runs\"]/Batsman_strike_rate[\"ball\"])*100\n",
        "Batsman_strike_rate= Batsman_strike_rate[[\"batsman\",\"strike_rate\"]]\n",
        "Batsman_strike_rate=Batsman_strike_rate.sort_values(by=\"strike_rate\",ascending=False).reset_index(drop=True)\n",
        "Batsman_strike_rate.iloc[:10,:]"
      ],
      "execution_count": null,
      "outputs": [
        {
          "output_type": "execute_result",
          "data": {
            "text/html": [
              "<div>\n",
              "<style scoped>\n",
              "    .dataframe tbody tr th:only-of-type {\n",
              "        vertical-align: middle;\n",
              "    }\n",
              "\n",
              "    .dataframe tbody tr th {\n",
              "        vertical-align: top;\n",
              "    }\n",
              "\n",
              "    .dataframe thead th {\n",
              "        text-align: right;\n",
              "    }\n",
              "</style>\n",
              "<table border=\"1\" class=\"dataframe\">\n",
              "  <thead>\n",
              "    <tr style=\"text-align: right;\">\n",
              "      <th></th>\n",
              "      <th>batsman</th>\n",
              "      <th>strike_rate</th>\n",
              "    </tr>\n",
              "  </thead>\n",
              "  <tbody>\n",
              "    <tr>\n",
              "      <th>0</th>\n",
              "      <td>AD Russell</td>\n",
              "      <td>171.995465</td>\n",
              "    </tr>\n",
              "    <tr>\n",
              "      <th>1</th>\n",
              "      <td>N Pooran</td>\n",
              "      <td>161.300310</td>\n",
              "    </tr>\n",
              "    <tr>\n",
              "      <th>2</th>\n",
              "      <td>SP Narine</td>\n",
              "      <td>155.671902</td>\n",
              "    </tr>\n",
              "    <tr>\n",
              "      <th>3</th>\n",
              "      <td>CH Morris</td>\n",
              "      <td>153.055556</td>\n",
              "    </tr>\n",
              "    <tr>\n",
              "      <th>4</th>\n",
              "      <td>HH Pandya</td>\n",
              "      <td>150.390190</td>\n",
              "    </tr>\n",
              "    <tr>\n",
              "      <th>5</th>\n",
              "      <td>V Sehwag</td>\n",
              "      <td>148.827059</td>\n",
              "    </tr>\n",
              "    <tr>\n",
              "      <th>6</th>\n",
              "      <td>GJ Maxwell</td>\n",
              "      <td>148.568608</td>\n",
              "    </tr>\n",
              "    <tr>\n",
              "      <th>7</th>\n",
              "      <td>AB de Villiers</td>\n",
              "      <td>148.560049</td>\n",
              "    </tr>\n",
              "    <tr>\n",
              "      <th>8</th>\n",
              "      <td>RR Pant</td>\n",
              "      <td>146.822034</td>\n",
              "    </tr>\n",
              "    <tr>\n",
              "      <th>9</th>\n",
              "      <td>JC Buttler</td>\n",
              "      <td>144.763514</td>\n",
              "    </tr>\n",
              "  </tbody>\n",
              "</table>\n",
              "</div>"
            ],
            "text/plain": [
              "          batsman  strike_rate\n",
              "0      AD Russell   171.995465\n",
              "1        N Pooran   161.300310\n",
              "2       SP Narine   155.671902\n",
              "3       CH Morris   153.055556\n",
              "4       HH Pandya   150.390190\n",
              "5        V Sehwag   148.827059\n",
              "6      GJ Maxwell   148.568608\n",
              "7  AB de Villiers   148.560049\n",
              "8         RR Pant   146.822034\n",
              "9      JC Buttler   144.763514"
            ]
          },
          "metadata": {
            "tags": []
          },
          "execution_count": 39
        }
      ]
    },
    {
      "cell_type": "code",
      "metadata": {
        "colab": {
          "base_uri": "https://localhost:8080/",
          "height": 359
        },
        "id": "nG7qVvBunNRN",
        "outputId": "53947006-8908-4e65-8397-75d9152bad91"
      },
      "source": [
        "Bowler_wicket = deliveries[deliveries[\"dismissal_kind\"] != \"run out\"]\n",
        "Bowler_wicket= Bowler_wicket[[\"bowler\",\"player_dismissed\"]]\n",
        "Bowler_wicket = Bowler_wicket.dropna()\n",
        "Bowler_wicket= Bowler_wicket.groupby(\"bowler\")[\"player_dismissed\"].count().reset_index().sort_values(by=\"player_dismissed\",ascending=False).reset_index(drop=True)\n",
        "Bowler_wicket.columns=[\"bowler\",\"Wickets\"]\n",
        "Bowler_wicket.iloc[:10,:]"
      ],
      "execution_count": null,
      "outputs": [
        {
          "output_type": "execute_result",
          "data": {
            "text/html": [
              "<div>\n",
              "<style scoped>\n",
              "    .dataframe tbody tr th:only-of-type {\n",
              "        vertical-align: middle;\n",
              "    }\n",
              "\n",
              "    .dataframe tbody tr th {\n",
              "        vertical-align: top;\n",
              "    }\n",
              "\n",
              "    .dataframe thead th {\n",
              "        text-align: right;\n",
              "    }\n",
              "</style>\n",
              "<table border=\"1\" class=\"dataframe\">\n",
              "  <thead>\n",
              "    <tr style=\"text-align: right;\">\n",
              "      <th></th>\n",
              "      <th>bowler</th>\n",
              "      <th>Wickets</th>\n",
              "    </tr>\n",
              "  </thead>\n",
              "  <tbody>\n",
              "    <tr>\n",
              "      <th>0</th>\n",
              "      <td>SL Malinga</td>\n",
              "      <td>170</td>\n",
              "    </tr>\n",
              "    <tr>\n",
              "      <th>1</th>\n",
              "      <td>A Mishra</td>\n",
              "      <td>160</td>\n",
              "    </tr>\n",
              "    <tr>\n",
              "      <th>2</th>\n",
              "      <td>PP Chawla</td>\n",
              "      <td>156</td>\n",
              "    </tr>\n",
              "    <tr>\n",
              "      <th>3</th>\n",
              "      <td>DJ Bravo</td>\n",
              "      <td>153</td>\n",
              "    </tr>\n",
              "    <tr>\n",
              "      <th>4</th>\n",
              "      <td>Harbhajan Singh</td>\n",
              "      <td>150</td>\n",
              "    </tr>\n",
              "    <tr>\n",
              "      <th>5</th>\n",
              "      <td>R Ashwin</td>\n",
              "      <td>138</td>\n",
              "    </tr>\n",
              "    <tr>\n",
              "      <th>6</th>\n",
              "      <td>B Kumar</td>\n",
              "      <td>136</td>\n",
              "    </tr>\n",
              "    <tr>\n",
              "      <th>7</th>\n",
              "      <td>SP Narine</td>\n",
              "      <td>127</td>\n",
              "    </tr>\n",
              "    <tr>\n",
              "      <th>8</th>\n",
              "      <td>YS Chahal</td>\n",
              "      <td>121</td>\n",
              "    </tr>\n",
              "    <tr>\n",
              "      <th>9</th>\n",
              "      <td>UT Yadav</td>\n",
              "      <td>119</td>\n",
              "    </tr>\n",
              "  </tbody>\n",
              "</table>\n",
              "</div>"
            ],
            "text/plain": [
              "            bowler  Wickets\n",
              "0       SL Malinga      170\n",
              "1         A Mishra      160\n",
              "2        PP Chawla      156\n",
              "3         DJ Bravo      153\n",
              "4  Harbhajan Singh      150\n",
              "5         R Ashwin      138\n",
              "6          B Kumar      136\n",
              "7        SP Narine      127\n",
              "8        YS Chahal      121\n",
              "9         UT Yadav      119"
            ]
          },
          "metadata": {
            "tags": []
          },
          "execution_count": 40
        }
      ]
    },
    {
      "cell_type": "code",
      "metadata": {
        "colab": {
          "base_uri": "https://localhost:8080/",
          "height": 357
        },
        "id": "2Fz33TFPnjmv",
        "outputId": "58d0c003-c8e5-45a2-bc1b-239e96691683"
      },
      "source": [
        "Bowler_wicket_Top =Bowler_wicket.iloc[:15,:]\n",
        "labels = np.array(Bowler_wicket_Top['bowler'])\n",
        "ind = np.arange(len(labels))\n",
        "width = 0.5 \n",
        "fig, ax = plt.subplots()\n",
        "rects = ax.bar(ind, np.array(Bowler_wicket_Top[\"Wickets\"]), width=width, color='blue')\n",
        "ax.set_xticks(ind+((width)/2.))\n",
        "ax.set_xticklabels(labels, rotation='vertical') \n",
        "ax.set_ylabel(\"Count\")\n",
        "ax.set_title(\" No of Wickets\")\n",
        "autolabel(rects)"
      ],
      "execution_count": null,
      "outputs": [
        {
          "output_type": "display_data",
          "data": {
            "image/png": "[encoded data removed]",
            "text/plain": [
              "<Figure size 432x288 with 1 Axes>"
            ]
          },
          "metadata": {
            "tags": [],
            "needs_background": "light"
          }
        }
      ]
    },
    {
      "cell_type": "code",
      "metadata": {
        "colab": {
          "base_uri": "https://localhost:8080/",
          "height": 669
        },
        "id": "b8l0qHYMnm-E",
        "outputId": "d1f84e15-5dc2-4846-d10c-6e4a896efe26"
      },
      "source": [
        "Bowler_over= deliveries[deliveries[\"extra_runs\"]==0][[\"ball\",\"bowler\"]] # here extra balls I am not considering include in over\n",
        "Bowler_over= Bowler_over.groupby(\"bowler\")[\"ball\"].count().reset_index().sort_values(by=\"ball\",ascending=False).reset_index(drop=True)\n",
        "Bowler_over[\"No_of_Overs\"]=(Bowler_over[\"ball\"]/6)\n",
        "Bowler_over.iloc[:20,:]"
      ],
      "execution_count": null,
      "outputs": [
        {
          "output_type": "execute_result",
          "data": {
            "text/html": [
              "<div>\n",
              "<style scoped>\n",
              "    .dataframe tbody tr th:only-of-type {\n",
              "        vertical-align: middle;\n",
              "    }\n",
              "\n",
              "    .dataframe tbody tr th {\n",
              "        vertical-align: top;\n",
              "    }\n",
              "\n",
              "    .dataframe thead th {\n",
              "        text-align: right;\n",
              "    }\n",
              "</style>\n",
              "<table border=\"1\" class=\"dataframe\">\n",
              "  <thead>\n",
              "    <tr style=\"text-align: right;\">\n",
              "      <th></th>\n",
              "      <th>bowler</th>\n",
              "      <th>ball</th>\n",
              "      <th>No_of_Overs</th>\n",
              "    </tr>\n",
              "  </thead>\n",
              "  <tbody>\n",
              "    <tr>\n",
              "      <th>0</th>\n",
              "      <td>Harbhajan Singh</td>\n",
              "      <td>3325</td>\n",
              "      <td>554.166667</td>\n",
              "    </tr>\n",
              "    <tr>\n",
              "      <th>1</th>\n",
              "      <td>PP Chawla</td>\n",
              "      <td>3218</td>\n",
              "      <td>536.333333</td>\n",
              "    </tr>\n",
              "    <tr>\n",
              "      <th>2</th>\n",
              "      <td>R Ashwin</td>\n",
              "      <td>3186</td>\n",
              "      <td>531.000000</td>\n",
              "    </tr>\n",
              "    <tr>\n",
              "      <th>3</th>\n",
              "      <td>A Mishra</td>\n",
              "      <td>3128</td>\n",
              "      <td>521.333333</td>\n",
              "    </tr>\n",
              "    <tr>\n",
              "      <th>4</th>\n",
              "      <td>SL Malinga</td>\n",
              "      <td>2753</td>\n",
              "      <td>458.833333</td>\n",
              "    </tr>\n",
              "    <tr>\n",
              "      <th>5</th>\n",
              "      <td>SP Narine</td>\n",
              "      <td>2741</td>\n",
              "      <td>456.833333</td>\n",
              "    </tr>\n",
              "    <tr>\n",
              "      <th>6</th>\n",
              "      <td>RA Jadeja</td>\n",
              "      <td>2673</td>\n",
              "      <td>445.500000</td>\n",
              "    </tr>\n",
              "    <tr>\n",
              "      <th>7</th>\n",
              "      <td>DJ Bravo</td>\n",
              "      <td>2661</td>\n",
              "      <td>443.500000</td>\n",
              "    </tr>\n",
              "    <tr>\n",
              "      <th>8</th>\n",
              "      <td>B Kumar</td>\n",
              "      <td>2629</td>\n",
              "      <td>438.166667</td>\n",
              "    </tr>\n",
              "    <tr>\n",
              "      <th>9</th>\n",
              "      <td>UT Yadav</td>\n",
              "      <td>2457</td>\n",
              "      <td>409.500000</td>\n",
              "    </tr>\n",
              "    <tr>\n",
              "      <th>10</th>\n",
              "      <td>P Kumar</td>\n",
              "      <td>2452</td>\n",
              "      <td>408.666667</td>\n",
              "    </tr>\n",
              "    <tr>\n",
              "      <th>11</th>\n",
              "      <td>Z Khan</td>\n",
              "      <td>2144</td>\n",
              "      <td>357.333333</td>\n",
              "    </tr>\n",
              "    <tr>\n",
              "      <th>12</th>\n",
              "      <td>DW Steyn</td>\n",
              "      <td>2131</td>\n",
              "      <td>355.166667</td>\n",
              "    </tr>\n",
              "    <tr>\n",
              "      <th>13</th>\n",
              "      <td>YS Chahal</td>\n",
              "      <td>2095</td>\n",
              "      <td>349.166667</td>\n",
              "    </tr>\n",
              "    <tr>\n",
              "      <th>14</th>\n",
              "      <td>R Vinay Kumar</td>\n",
              "      <td>2083</td>\n",
              "      <td>347.166667</td>\n",
              "    </tr>\n",
              "    <tr>\n",
              "      <th>15</th>\n",
              "      <td>JJ Bumrah</td>\n",
              "      <td>2042</td>\n",
              "      <td>340.333333</td>\n",
              "    </tr>\n",
              "    <tr>\n",
              "      <th>16</th>\n",
              "      <td>Sandeep Sharma</td>\n",
              "      <td>2029</td>\n",
              "      <td>338.166667</td>\n",
              "    </tr>\n",
              "    <tr>\n",
              "      <th>17</th>\n",
              "      <td>IK Pathan</td>\n",
              "      <td>1993</td>\n",
              "      <td>332.166667</td>\n",
              "    </tr>\n",
              "    <tr>\n",
              "      <th>18</th>\n",
              "      <td>AR Patel</td>\n",
              "      <td>1983</td>\n",
              "      <td>330.500000</td>\n",
              "    </tr>\n",
              "    <tr>\n",
              "      <th>19</th>\n",
              "      <td>SR Watson</td>\n",
              "      <td>1982</td>\n",
              "      <td>330.333333</td>\n",
              "    </tr>\n",
              "  </tbody>\n",
              "</table>\n",
              "</div>"
            ],
            "text/plain": [
              "             bowler  ball  No_of_Overs\n",
              "0   Harbhajan Singh  3325   554.166667\n",
              "1         PP Chawla  3218   536.333333\n",
              "2          R Ashwin  3186   531.000000\n",
              "3          A Mishra  3128   521.333333\n",
              "4        SL Malinga  2753   458.833333\n",
              "5         SP Narine  2741   456.833333\n",
              "6         RA Jadeja  2673   445.500000\n",
              "7          DJ Bravo  2661   443.500000\n",
              "8           B Kumar  2629   438.166667\n",
              "9          UT Yadav  2457   409.500000\n",
              "10          P Kumar  2452   408.666667\n",
              "11           Z Khan  2144   357.333333\n",
              "12         DW Steyn  2131   355.166667\n",
              "13        YS Chahal  2095   349.166667\n",
              "14    R Vinay Kumar  2083   347.166667\n",
              "15        JJ Bumrah  2042   340.333333\n",
              "16   Sandeep Sharma  2029   338.166667\n",
              "17        IK Pathan  1993   332.166667\n",
              "18         AR Patel  1983   330.500000\n",
              "19        SR Watson  1982   330.333333"
            ]
          },
          "metadata": {
            "tags": []
          },
          "execution_count": 36
        }
      ]
    },
    {
      "cell_type": "code",
      "metadata": {
        "colab": {
          "base_uri": "https://localhost:8080/",
          "height": 669
        },
        "id": "RSXvttYLnqoV",
        "outputId": "6254cf6a-661b-476b-a13c-07dfc44532f8"
      },
      "source": [
        "Bowler_Strike_rate = pd.merge(Bowler_over,Bowler_wicket,on=\"bowler\")\n",
        "Bowler_Strike_rate= Bowler_Strike_rate[Bowler_Strike_rate[\"No_of_Overs\"]>50] # taking only bowler with minimum 50 overs\n",
        "Bowler_Strike_rate[\"Strike_rate\"]=Bowler_Strike_rate[\"ball\"]/Bowler_Strike_rate[\"Wickets\"]\n",
        "Bowler_Strike_rate=Bowler_Strike_rate.sort_values(by=\"Strike_rate\").reset_index(drop=True)\n",
        "Bowler_Strike_rate.iloc[:20,:]"
      ],
      "execution_count": null,
      "outputs": [
        {
          "output_type": "execute_result",
          "data": {
            "text/html": [
              "<div>\n",
              "<style scoped>\n",
              "    .dataframe tbody tr th:only-of-type {\n",
              "        vertical-align: middle;\n",
              "    }\n",
              "\n",
              "    .dataframe tbody tr th {\n",
              "        vertical-align: top;\n",
              "    }\n",
              "\n",
              "    .dataframe thead th {\n",
              "        text-align: right;\n",
              "    }\n",
              "</style>\n",
              "<table border=\"1\" class=\"dataframe\">\n",
              "  <thead>\n",
              "    <tr style=\"text-align: right;\">\n",
              "      <th></th>\n",
              "      <th>bowler</th>\n",
              "      <th>ball</th>\n",
              "      <th>No_of_Overs</th>\n",
              "      <th>Wickets</th>\n",
              "      <th>Strike_rate</th>\n",
              "    </tr>\n",
              "  </thead>\n",
              "  <tbody>\n",
              "    <tr>\n",
              "      <th>0</th>\n",
              "      <td>K Rabada</td>\n",
              "      <td>787</td>\n",
              "      <td>131.166667</td>\n",
              "      <td>61</td>\n",
              "      <td>12.901639</td>\n",
              "    </tr>\n",
              "    <tr>\n",
              "      <th>1</th>\n",
              "      <td>KK Ahmed</td>\n",
              "      <td>373</td>\n",
              "      <td>62.166667</td>\n",
              "      <td>28</td>\n",
              "      <td>13.321429</td>\n",
              "    </tr>\n",
              "    <tr>\n",
              "      <th>2</th>\n",
              "      <td>CR Woakes</td>\n",
              "      <td>365</td>\n",
              "      <td>60.833333</td>\n",
              "      <td>25</td>\n",
              "      <td>14.600000</td>\n",
              "    </tr>\n",
              "    <tr>\n",
              "      <th>3</th>\n",
              "      <td>DE Bollinger</td>\n",
              "      <td>560</td>\n",
              "      <td>93.333333</td>\n",
              "      <td>38</td>\n",
              "      <td>14.736842</td>\n",
              "    </tr>\n",
              "    <tr>\n",
              "      <th>4</th>\n",
              "      <td>MF Maharoof</td>\n",
              "      <td>408</td>\n",
              "      <td>68.000000</td>\n",
              "      <td>27</td>\n",
              "      <td>15.111111</td>\n",
              "    </tr>\n",
              "    <tr>\n",
              "      <th>5</th>\n",
              "      <td>AJ Tye</td>\n",
              "      <td>605</td>\n",
              "      <td>100.833333</td>\n",
              "      <td>40</td>\n",
              "      <td>15.125000</td>\n",
              "    </tr>\n",
              "    <tr>\n",
              "      <th>6</th>\n",
              "      <td>MR Marsh</td>\n",
              "      <td>313</td>\n",
              "      <td>52.166667</td>\n",
              "      <td>20</td>\n",
              "      <td>15.650000</td>\n",
              "    </tr>\n",
              "    <tr>\n",
              "      <th>7</th>\n",
              "      <td>VY Mahesh</td>\n",
              "      <td>332</td>\n",
              "      <td>55.333333</td>\n",
              "      <td>21</td>\n",
              "      <td>15.809524</td>\n",
              "    </tr>\n",
              "    <tr>\n",
              "      <th>8</th>\n",
              "      <td>AD Mascarenhas</td>\n",
              "      <td>302</td>\n",
              "      <td>50.333333</td>\n",
              "      <td>19</td>\n",
              "      <td>15.894737</td>\n",
              "    </tr>\n",
              "    <tr>\n",
              "      <th>9</th>\n",
              "      <td>Imran Tahir</td>\n",
              "      <td>1278</td>\n",
              "      <td>213.000000</td>\n",
              "      <td>80</td>\n",
              "      <td>15.975000</td>\n",
              "    </tr>\n",
              "    <tr>\n",
              "      <th>10</th>\n",
              "      <td>A Nortje</td>\n",
              "      <td>355</td>\n",
              "      <td>59.166667</td>\n",
              "      <td>22</td>\n",
              "      <td>16.136364</td>\n",
              "    </tr>\n",
              "    <tr>\n",
              "      <th>11</th>\n",
              "      <td>SL Malinga</td>\n",
              "      <td>2753</td>\n",
              "      <td>458.833333</td>\n",
              "      <td>170</td>\n",
              "      <td>16.194118</td>\n",
              "    </tr>\n",
              "    <tr>\n",
              "      <th>12</th>\n",
              "      <td>KW Richardson</td>\n",
              "      <td>310</td>\n",
              "      <td>51.666667</td>\n",
              "      <td>19</td>\n",
              "      <td>16.315789</td>\n",
              "    </tr>\n",
              "    <tr>\n",
              "      <th>13</th>\n",
              "      <td>MA Starc</td>\n",
              "      <td>556</td>\n",
              "      <td>92.666667</td>\n",
              "      <td>34</td>\n",
              "      <td>16.352941</td>\n",
              "    </tr>\n",
              "    <tr>\n",
              "      <th>14</th>\n",
              "      <td>BW Hilfenhaus</td>\n",
              "      <td>361</td>\n",
              "      <td>60.166667</td>\n",
              "      <td>22</td>\n",
              "      <td>16.409091</td>\n",
              "    </tr>\n",
              "    <tr>\n",
              "      <th>15</th>\n",
              "      <td>A Singh</td>\n",
              "      <td>462</td>\n",
              "      <td>77.000000</td>\n",
              "      <td>28</td>\n",
              "      <td>16.500000</td>\n",
              "    </tr>\n",
              "    <tr>\n",
              "      <th>16</th>\n",
              "      <td>S Aravind</td>\n",
              "      <td>748</td>\n",
              "      <td>124.666667</td>\n",
              "      <td>45</td>\n",
              "      <td>16.622222</td>\n",
              "    </tr>\n",
              "    <tr>\n",
              "      <th>17</th>\n",
              "      <td>KK Cooper</td>\n",
              "      <td>551</td>\n",
              "      <td>91.833333</td>\n",
              "      <td>33</td>\n",
              "      <td>16.696970</td>\n",
              "    </tr>\n",
              "    <tr>\n",
              "      <th>18</th>\n",
              "      <td>NM Coulter-Nile</td>\n",
              "      <td>705</td>\n",
              "      <td>117.500000</td>\n",
              "      <td>41</td>\n",
              "      <td>17.195122</td>\n",
              "    </tr>\n",
              "    <tr>\n",
              "      <th>19</th>\n",
              "      <td>YS Chahal</td>\n",
              "      <td>2095</td>\n",
              "      <td>349.166667</td>\n",
              "      <td>121</td>\n",
              "      <td>17.314050</td>\n",
              "    </tr>\n",
              "  </tbody>\n",
              "</table>\n",
              "</div>"
            ],
            "text/plain": [
              "             bowler  ball  No_of_Overs  Wickets  Strike_rate\n",
              "0          K Rabada   787   131.166667       61    12.901639\n",
              "1          KK Ahmed   373    62.166667       28    13.321429\n",
              "2         CR Woakes   365    60.833333       25    14.600000\n",
              "3      DE Bollinger   560    93.333333       38    14.736842\n",
              "4       MF Maharoof   408    68.000000       27    15.111111\n",
              "5            AJ Tye   605   100.833333       40    15.125000\n",
              "6          MR Marsh   313    52.166667       20    15.650000\n",
              "7         VY Mahesh   332    55.333333       21    15.809524\n",
              "8    AD Mascarenhas   302    50.333333       19    15.894737\n",
              "9       Imran Tahir  1278   213.000000       80    15.975000\n",
              "10         A Nortje   355    59.166667       22    16.136364\n",
              "11       SL Malinga  2753   458.833333      170    16.194118\n",
              "12    KW Richardson   310    51.666667       19    16.315789\n",
              "13         MA Starc   556    92.666667       34    16.352941\n",
              "14    BW Hilfenhaus   361    60.166667       22    16.409091\n",
              "15          A Singh   462    77.000000       28    16.500000\n",
              "16        S Aravind   748   124.666667       45    16.622222\n",
              "17        KK Cooper   551    91.833333       33    16.696970\n",
              "18  NM Coulter-Nile   705   117.500000       41    17.195122\n",
              "19        YS Chahal  2095   349.166667      121    17.314050"
            ]
          },
          "metadata": {
            "tags": []
          },
          "execution_count": 37
        }
      ]
    },
    {
      "cell_type": "code",
      "metadata": {
        "colab": {
          "base_uri": "https://localhost:8080/",
          "height": 355
        },
        "id": "TsCW855QnwC5",
        "outputId": "601e8482-9667-4ce5-9f7c-3cc7cc6238eb"
      },
      "source": [
        "Bowler_Strike_rate_Top = Bowler_Strike_rate.iloc[:15,:]\n",
        "labels = np.array(Bowler_Strike_rate_Top['bowler'])\n",
        "ind = np.arange(len(labels))\n",
        "width = 0.5 \n",
        "fig, ax = plt.subplots()\n",
        "rects = ax.bar(ind, np.array(Bowler_Strike_rate_Top [\"Strike_rate\"]), width=width, color='blue')\n",
        "ax.set_xticks(ind+((width)/2.)) \n",
        "ax.set_xticklabels(labels, rotation='vertical')\n",
        "ax.set_ylabel(\"strike \")\n",
        "ax.set_title(\"Strike_rate(ovesr>50)\")\n",
        "autolabel(rects)"
      ],
      "execution_count": null,
      "outputs": [
        {
          "output_type": "display_data",
          "data": {
            "image/png": "[encoded data removed]",
            "text/plain": [
              "<Figure size 432x288 with 1 Axes>"
            ]
          },
          "metadata": {
            "tags": [],
            "needs_background": "light"
          }
        }
      ]
    },
    {
      "cell_type": "markdown",
      "metadata": {
        "id": "pdK25n6eo7Fq"
      },
      "source": [
        "Q. Which bowler has the best strike rate in IPLs\n",
        "\n",
        "\n",
        "Answer.\n",
        "**Kagiso RABADA**\n",
        "\n"
      ]
    }
  ]
}